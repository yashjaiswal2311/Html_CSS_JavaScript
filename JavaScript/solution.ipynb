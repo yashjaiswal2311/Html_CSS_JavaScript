{
 "cells": [
  {
   "cell_type": "code",
   "execution_count": null,
   "metadata": {
    "dotnet_interactive": {
     "language": "javascript"
    }
   },
   "outputs": [
    {
     "data": {
      "text/plain": [
       "3"
      ]
     },
     "metadata": {},
     "output_type": "display_data"
    },
    {
     "data": {
      "text/plain": [
       "153"
      ]
     },
     "metadata": {},
     "output_type": "display_data"
    }
   ],
   "source": [
    "\n",
    "let n = 153\n",
    "t = n \n",
    "\n",
    "// find number of digits \n",
    "\n",
    "c = 0\n",
    "while(n > 0){\n",
    "  a = n%10  //3\n",
    "  c++ // 3\n",
    "  n = parseInt(n/10)\n",
    "}\n",
    "console.log(c)\n",
    "\n",
    "// sum \n",
    "n = t\n",
    "sum = 0\n",
    "while(n > 0){\n",
    "  a = n%10 \n",
    "  sum =  sum + a**c\n",
    "  n = parseInt(n/10)\n",
    "}\n",
    "\n",
    "console.log(sum)\n",
    "\n",
    "\n",
    "\n",
    "\n"
   ]
  },
  {
   "cell_type": "code",
   "execution_count": null,
   "metadata": {
    "dotnet_interactive": {
     "language": "javascript"
    }
   },
   "outputs": [
    {
     "data": {
      "text/plain": [
       "6"
      ]
     },
     "metadata": {},
     "output_type": "display_data"
    }
   ],
   "source": [
    "\n",
    "let a = 12\n",
    "let b = 18\n",
    "\n",
    "/*for (i =1; i<=a; i++){\n",
    "  \n",
    "if( a%i == 0 && b%i == 0 ){\n",
    "    hcf = i // 10\n",
    " }\n",
    "  \n",
    "  }\n",
    "   console.log(hcf) \n",
    "\n",
    "// hcf*lcm = product of both numbers*/\n",
    "rem = -1\n",
    "while(rem !=0) {\n",
    "  \n",
    "  rem = b%a \n",
    "  b = a \n",
    "  a = rem \n",
    "  \n",
    "}\n",
    "console.log(b)"
   ]
  },
  {
   "cell_type": "code",
   "execution_count": null,
   "metadata": {
    "dotnet_interactive": {
     "language": "javascript"
    }
   },
   "outputs": [],
   "source": [
    "\n",
    "let n = 153\n",
    "t = n \n",
    "\n",
    "// find number of digits \n",
    "\n",
    "c = 0\n",
    "while(n > 0){\n",
    "  a = n%10  //3\n",
    "  c++ // 3\n",
    "  n = parseInt(n/10)\n",
    "}\n",
    "console.log(c)\n",
    "\n",
    "// sum \n",
    "n = t\n",
    "sum = 0\n",
    "while(n > 0){\n",
    "  a = n%10 \n",
    "  sum =  sum + a**c\n",
    "  n = parseInt(n/10)\n",
    "}\n",
    "\n",
    "console.log(sum)\n",
    "\n",
    "\n",
    "\n",
    "\n"
   ]
  },
  {
   "cell_type": "code",
   "execution_count": null,
   "metadata": {
    "dotnet_interactive": {
     "language": "javascript"
    }
   },
   "outputs": [
    {
     "data": {
      "text/plain": [
       "3"
      ]
     },
     "metadata": {},
     "output_type": "display_data"
    },
    {
     "data": {
      "text/plain": [
       "6"
      ]
     },
     "metadata": {},
     "output_type": "display_data"
    },
    {
     "data": {
      "text/plain": [
       "2"
      ]
     },
     "metadata": {},
     "output_type": "display_data"
    },
    {
     "data": {
      "text/plain": [
       "2"
      ]
     },
     "metadata": {},
     "output_type": "display_data"
    },
    {
     "data": {
      "text/plain": [
       "1"
      ]
     },
     "metadata": {},
     "output_type": "display_data"
    },
    {
     "data": {
      "text/plain": [
       "1"
      ]
     },
     "metadata": {},
     "output_type": "display_data"
    },
    {
     "data": {
      "text/plain": [
       "9"
      ]
     },
     "metadata": {},
     "output_type": "display_data"
    }
   ],
   "source": [
    "n = 123\n",
    "s = 0\n",
    "while(n > 0){\n",
    "  a = n%10  //3\n",
    "  // console.log(a)\n",
    "  f = 1\n",
    "  for( i = 1; i<=a; i++){\n",
    "    f = f*i\n",
    "  }\n",
    "  console.log(a, f)\n",
    "  s = s+f\n",
    "  \n",
    "  n = parseInt(n/10)\n",
    "}\n",
    "console.log(s)"
   ]
  },
  {
   "cell_type": "code",
   "execution_count": null,
   "metadata": {
    "dotnet_interactive": {
     "language": "javascript"
    }
   },
   "outputs": [
    {
     "data": {
      "text/plain": [
       "6"
      ]
     },
     "metadata": {},
     "output_type": "display_data"
    },
    {
     "data": {
      "text/plain": [
       "8"
      ]
     },
     "metadata": {},
     "output_type": "display_data"
    },
    {
     "data": {
      "text/plain": [
       "4"
      ]
     },
     "metadata": {},
     "output_type": "display_data"
    },
    {
     "data": {
      "text/plain": [
       "2"
      ]
     },
     "metadata": {},
     "output_type": "display_data"
    }
   ],
   "source": [
    "//print all even digits\n",
    "\n",
    "let n1 = 1234786\n",
    "while(n1>0)\n",
    "    {\n",
    "    rem = n1%10\n",
    "    n1 = parseInt(n1/10)\n",
    "    if(rem%2==0)\n",
    "    {\n",
    "        console.log(rem)\n",
    "    }\n",
    "    }\n"
   ]
  },
  {
   "cell_type": "code",
   "execution_count": null,
   "metadata": {
    "dotnet_interactive": {
     "language": "javascript"
    }
   },
   "outputs": [
    {
     "data": {
      "text/plain": [
       "5"
      ]
     },
     "metadata": {},
     "output_type": "display_data"
    }
   ],
   "source": [
    "//count all zeros in a number\n",
    "\n",
    "let n1 = 1000006\n",
    "count = 0\n",
    "while(n1>0)\n",
    "    {\n",
    "    rem = n1%10\n",
    "    rem1 = parseInt(n1/10)\n",
    "    n1 = rem1\n",
    "    if(rem==0)\n",
    "    {\n",
    "        count++\n",
    "    }\n",
    "    }\n",
    "    console.log(count)\n"
   ]
  },
  {
   "cell_type": "code",
   "execution_count": null,
   "metadata": {
    "dotnet_interactive": {
     "language": "javascript"
    }
   },
   "outputs": [
    {
     "data": {
      "text/plain": [
       "Its a prime number, 23"
      ]
     },
     "metadata": {},
     "output_type": "display_data"
    },
    {
     "data": {
      "text/plain": [
       "Its a prime number, 29"
      ]
     },
     "metadata": {},
     "output_type": "display_data"
    },
    {
     "data": {
      "text/plain": [
       "Its a prime number, 31"
      ]
     },
     "metadata": {},
     "output_type": "display_data"
    },
    {
     "data": {
      "text/plain": [
       "Its a prime number, 37"
      ]
     },
     "metadata": {},
     "output_type": "display_data"
    },
    {
     "data": {
      "text/plain": [
       "Its a prime number, 41"
      ]
     },
     "metadata": {},
     "output_type": "display_data"
    },
    {
     "data": {
      "text/plain": [
       "Its a prime number, 43"
      ]
     },
     "metadata": {},
     "output_type": "display_data"
    },
    {
     "data": {
      "text/plain": [
       "Its a prime number, 47"
      ]
     },
     "metadata": {},
     "output_type": "display_data"
    },
    {
     "data": {
      "text/plain": [
       "7"
      ]
     },
     "metadata": {},
     "output_type": "display_data"
    }
   ],
   "source": [
    "//prime numbers between two numbers\n",
    "\n",
    "let n = 21,n1 = 50\n",
    "count = 0,prime=0\n",
    "for(i=n;i<=n1;i++)\n",
    "    {\n",
    "        for(j=2;j<=n1;j++)\n",
    "        {\n",
    "            if(i%j==0)\n",
    "            {\n",
    "                count++\n",
    "            }\n",
    "        }\n",
    "        if(count<2)\n",
    "        {\n",
    "            console.log(\"Its a prime number, \"+i)\n",
    "            prime++\n",
    "        }\n",
    "            count=0\n",
    "    }\n",
    "    console.log(prime)\n",
    "\n"
   ]
  },
  {
   "cell_type": "code",
   "execution_count": null,
   "metadata": {
    "dotnet_interactive": {
     "language": "javascript"
    }
   },
   "outputs": [
    {
     "data": {
      "text/plain": [
       "3"
      ]
     },
     "metadata": {},
     "output_type": "display_data"
    },
    {
     "data": {
      "text/plain": [
       "3"
      ]
     },
     "metadata": {},
     "output_type": "display_data"
    },
    {
     "data": {
      "text/plain": [
       "5"
      ]
     },
     "metadata": {},
     "output_type": "display_data"
    },
    {
     "data": {
      "text/plain": [
       "1"
      ]
     },
     "metadata": {},
     "output_type": "display_data"
    },
    {
     "data": {
      "text/plain": [
       "its a armstrong number, 153"
      ]
     },
     "metadata": {},
     "output_type": "display_data"
    }
   ],
   "source": [
    "//check if it is a armstrong number \n",
    "\n",
    "let n1 = 153\n",
    "count=0\n",
    "total=0\n",
    "n2=n1\n",
    "while(n1>0)\n",
    "    {\n",
    "    rem = n1%10\n",
    "    rem1 = parseInt(n1/10)\n",
    "    n1 = rem1\n",
    "    count++\n",
    "    }\n",
    "    console.log(count)\n",
    "    n1=n2\n",
    "while(n1>0)\n",
    "    {\n",
    "    rem = n1%10\n",
    "    rem1 = parseInt(n1/10)\n",
    "    n1 = rem1\n",
    "    total=total+(rem**count)\n",
    "    }\n",
    "if(total==n2)\n",
    "{\n",
    "    console.log(\"its a armstrong number, \"+total)\n",
    "}\n",
    "else\n",
    "{\n",
    "    console.log(\"its not a armstrong number, \"+total)\n",
    "}"
   ]
  },
  {
   "cell_type": "code",
   "execution_count": null,
   "metadata": {
    "dotnet_interactive": {
     "language": "javascript"
    }
   },
   "outputs": [
    {
     "data": {
      "text/plain": [
       "its not a armstrong number, 3"
      ]
     },
     "metadata": {},
     "output_type": "display_data"
    }
   ],
   "source": [
    "//print all even digits\n",
    "\n",
    "let n1 = 145\n",
    "count=0\n",
    "total=0\n",
    "n2=n1\n",
    "while(n1>0)\n",
    "    {\n",
    "    rem = n1%10\n",
    "    rem1 = parseInt(n1/10)\n",
    "    n1 = rem1\n",
    "    total=total+(rem**count)\n",
    "    }\n",
    "if(total==n2)\n",
    "{\n",
    "    console.log(\"its a armstrong number, \"+total)\n",
    "}\n",
    "else\n",
    "{\n",
    "    console.log(\"its not a armstrong number, \"+total)\n",
    "}"
   ]
  },
  {
   "cell_type": "code",
   "execution_count": null,
   "metadata": {
    "dotnet_interactive": {
     "language": "javascript"
    }
   },
   "outputs": [
    {
     "data": {
      "text/plain": [
       "27"
      ]
     },
     "metadata": {},
     "output_type": "display_data"
    },
    {
     "data": {
      "text/plain": [
       "9"
      ]
     },
     "metadata": {},
     "output_type": "display_data"
    }
   ],
   "source": [
    "//check if it is a mars number or not\n",
    "\n",
    "let n1 = 999\n",
    "total =0\n",
    "digits=0\n",
    "while(n1>0)\n",
    "    {\n",
    "    rem = n1%10\n",
    "    rem1 = parseInt(n1/10)\n",
    "    n1 = rem1\n",
    "    total=total+rem\n",
    "    }\n",
    "    rem=0\n",
    "    rem1=0\n",
    "    console.log(total)\n",
    "while(total>0)\n",
    "{\n",
    "    rem = total%10\n",
    "    rem1 = parseInt(total/10)\n",
    "    total = rem1\n",
    "    digits=digits+rem\n",
    "}\n",
    "        console.log(digits)\n"
   ]
  },
  {
   "cell_type": "code",
   "execution_count": null,
   "metadata": {
    "dotnet_interactive": {
     "language": "javascript"
    }
   },
   "outputs": [],
   "source": []
  }
 ],
 "metadata": {
  "kernelspec": {
   "display_name": ".NET (C#)",
   "language": "C#",
   "name": ".net-csharp"
  },
  "language_info": {
   "name": "C#"
  }
 },
 "nbformat": 4,
 "nbformat_minor": 2
}
