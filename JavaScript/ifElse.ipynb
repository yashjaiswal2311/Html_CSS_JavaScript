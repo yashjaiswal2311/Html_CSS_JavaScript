{
 "cells": [
  {
   "cell_type": "code",
   "execution_count": null,
   "metadata": {
    "dotnet_interactive": {
     "language": "javascript"
    }
   },
   "outputs": [
    {
     "data": {
      "text/plain": [
       "numbers are equal"
      ]
     },
     "metadata": {},
     "output_type": "display_data"
    }
   ],
   "source": [
    "let a=10,b=10;\n",
    "\n",
    "if(a>b)\n",
    "{\n",
    "    console.log(a+' is the biggest');\n",
    "}\n",
    "else if(a<b)\n",
    "{\n",
    "    console.log(b+' is the biggest');\n",
    "}\n",
    "else\n",
    "{\n",
    "    console.log('numbers are equal');\n",
    "}"
   ]
  },
  {
   "cell_type": "code",
   "execution_count": null,
   "metadata": {
    "dotnet_interactive": {
     "language": "javascript"
    }
   },
   "outputs": [
    {
     "data": {
      "text/plain": [
       "number is Zero"
      ]
     },
     "metadata": {},
     "output_type": "display_data"
    }
   ],
   "source": [
    "let a = 0;\n",
    "\n",
    "if(a>0)\n",
    "{\n",
    "    console.log(a+\" is a positive number\");\n",
    "}\n",
    "else if(a<0)\n",
    "{\n",
    "    console.log(a+\" is a negative number\");\n",
    "}\n",
    "else\n",
    "{\n",
    "    console.log(\"number is Zero\");\n",
    "}"
   ]
  },
  {
   "cell_type": "code",
   "execution_count": null,
   "metadata": {
    "dotnet_interactive": {
     "language": "javascript"
    }
   },
   "outputs": [
    {
     "data": {
      "text/plain": [
       "Divisible by 3"
      ]
     },
     "metadata": {},
     "output_type": "display_data"
    },
    {
     "data": {
      "text/plain": [
       "Not Divisible"
      ]
     },
     "metadata": {},
     "output_type": "display_data"
    }
   ],
   "source": [
    "let n = 12;\n",
    "\n",
    "if(n%3==0)\n",
    "{\n",
    "    console.log(\"Divisible by 3\");\n",
    "}\n",
    "if(n%5==0)\n",
    "{\n",
    "    console.log(\"Divisible by 5\");\n",
    "}\n",
    "else\n",
    "{\n",
    "    console.log(\"Not Divisible\");\n",
    "}"
   ]
  },
  {
   "cell_type": "code",
   "execution_count": null,
   "metadata": {
    "dotnet_interactive": {
     "language": "javascript"
    }
   },
   "outputs": [
    {
     "data": {
      "text/plain": [
       "numbers are equal"
      ]
     },
     "metadata": {},
     "output_type": "display_data"
    }
   ],
   "source": [
    "let a,b,c\n",
    "a=3;\n",
    "b=3;\n",
    "c=3;\n",
    "\n",
    "if(a>b && a>c)\n",
    "{\n",
    "    console.log(a+' is the biggest number')\n",
    "}\n",
    "else if(b>a && b>c)\n",
    "{\n",
    "    console.log(b+' is the biggest number')\n",
    "}\n",
    "else if(c>b && c>a)\n",
    "{\n",
    "    console.log(c+' is the biggest number')\n",
    "}\n",
    "else\n",
    "{\n",
    "    console.log('numbers are equal')\n",
    "}"
   ]
  },
  {
   "cell_type": "code",
   "execution_count": null,
   "metadata": {
    "dotnet_interactive": {
     "language": "javascript"
    }
   },
   "outputs": [
    {
     "data": {
      "text/plain": [
       "7 is the second biggest number"
      ]
     },
     "metadata": {},
     "output_type": "display_data"
    }
   ],
   "source": [
    "let a,b,c\n",
    "a=3;\n",
    "b=12;\n",
    "c=7;\n",
    "\n",
    "if(a>b && a>c)\n",
    "{\n",
    "    if(b>c)\n",
    "    {\n",
    "        console.log(b+' is the second biggest number')\n",
    "    }\n",
    "    else if(c>b)\n",
    "    {\n",
    "        console.log(c+' is the second biggest number')\n",
    "    }\n",
    "}\n",
    "else if(b>a && b>c)\n",
    "{\n",
    "    if(a>c)\n",
    "    {\n",
    "        console.log(a+' is the second biggest number')\n",
    "    }\n",
    "    else if(c>a)\n",
    "    {\n",
    "        console.log(c+' is the second biggest number')\n",
    "    }\n",
    "}\n",
    "else if(c>b && c>a)\n",
    "{\n",
    "    if(a>b)\n",
    "    {\n",
    "        console.log(a+' is the second biggest number')\n",
    "    }\n",
    "    else if(b>a)\n",
    "    {\n",
    "        console.log(b+' is the second biggest number')\n",
    "    }\n",
    "}\n",
    "else\n",
    "{\n",
    "    console.log('numbers are equal')\n",
    "}"
   ]
  },
  {
   "cell_type": "code",
   "execution_count": null,
   "metadata": {
    "dotnet_interactive": {
     "language": "javascript"
    }
   },
   "outputs": [
    {
     "data": {
      "text/plain": [
       "12 is the second smallest number"
      ]
     },
     "metadata": {},
     "output_type": "display_data"
    }
   ],
   "source": [
    "let a,b,c\n",
    "a=3;\n",
    "b=12;\n",
    "c=34;\n",
    "\n",
    "if(a<b && a<c)\n",
    "{\n",
    "    if(b<c)\n",
    "    {\n",
    "        console.log(b+' is the second smallest number')\n",
    "    }\n",
    "    else if(c<b)\n",
    "    {\n",
    "        console.log(c+' is the second smallest number')\n",
    "    }\n",
    "}\n",
    "else if(b<a && b<c)\n",
    "{\n",
    "    if(a<c)\n",
    "    {\n",
    "        console.log(a+' is the second smallest number')\n",
    "    }\n",
    "    else if(c<a)\n",
    "    {\n",
    "        console.log(c+' is the second smallest number')\n",
    "    }\n",
    "}\n",
    "else if(c<b && c<a)\n",
    "{\n",
    "    if(a<b)\n",
    "    {\n",
    "        console.log(a+' is the second smallest number')\n",
    "    }\n",
    "    else if(b<a)\n",
    "    {\n",
    "        console.log(b+' is the second smallest number')\n",
    "    }\n",
    "}\n",
    "else\n",
    "{\n",
    "    console.log('numbers are equal')\n",
    "}"
   ]
  },
  {
   "cell_type": "code",
   "execution_count": null,
   "metadata": {
    "dotnet_interactive": {
     "language": "javascript"
    }
   },
   "outputs": [
    {
     "data": {
      "text/plain": [
       "78 is the biggest"
      ]
     },
     "metadata": {},
     "output_type": "display_data"
    }
   ],
   "source": [
    "let a,b,c\n",
    "a=7;\n",
    "b=78;\n",
    "c=11;\n",
    "\n",
    "let t = a>b & a>c ? (a+' is the biggest') : (b>a && b>c ? (b+' is the biggest') : (c>a && c>b ? (c+ ' is the biggest') :('numbers are equal')))\n",
    "console.log(t);"
   ]
  },
  {
   "cell_type": "code",
   "execution_count": null,
   "metadata": {
    "dotnet_interactive": {
     "language": "javascript"
    }
   },
   "outputs": [
    {
     "data": {
      "text/plain": [
       "45 is greater"
      ]
     },
     "metadata": {},
     "output_type": "display_data"
    }
   ],
   "source": [
    "let a,b\n",
    "a=18\n",
    "b=45\n",
    "\n",
    "let t = a>b ? (a+' is greater') : (b>a ? (b+' is greater'): ('numbers are equal'))\n",
    "console.log(t)"
   ]
  },
  {
   "cell_type": "code",
   "execution_count": null,
   "metadata": {
    "dotnet_interactive": {
     "language": "javascript"
    }
   },
   "outputs": [
    {
     "data": {
      "text/plain": [
       "not a triangle"
      ]
     },
     "metadata": {},
     "output_type": "display_data"
    }
   ],
   "source": [
    "let t1,t2,t3,a1,a2,a3,sum\n",
    "t1=0,t2=10,t3=17\n",
    "a1=50,a2=50,a3=80\n",
    "sum =a1+a2+a3\n",
    "if((sum ==180) && (t1!=0 && t2!=0 && t3!=0))\n",
    "{\n",
    "    if((t1==t2&& t2==t3)&&(a1==a2 && a2==a3)) \n",
    "    {\n",
    "        console.log('its a equilateral triangle');\n",
    "    }\n",
    "    else if((t1==t2||t2==t3||t1==t3)&&(a1==a2||a2==a3||a1==a3))\n",
    "    {\n",
    "        console.log('its a isosceles triangle')\n",
    "    }\n",
    "    else if((t1!= t2 && t2!=t3 && t3!=t1)&&(a1!= a2 && a2!=a3 && a3!=a1))\n",
    "    {\n",
    "        console.log('its a scalene triangle');\n",
    "    }\n",
    "    else\n",
    "    {   console.log('not a triangle by sides or angle')}\n",
    "}\n",
    "else\n",
    "{console.log('not a triangle');}"
   ]
  },
  {
   "cell_type": "code",
   "execution_count": null,
   "metadata": {
    "dotnet_interactive": {
     "language": "javascript"
    }
   },
   "outputs": [
    {
     "data": {
      "text/plain": [
       "587"
      ]
     },
     "metadata": {},
     "output_type": "display_data"
    }
   ],
   "source": [
    "let n = 785\n",
    "if(n>99 && n<999)\n",
    "{\n",
    "    let digit1 = n%10\n",
    "    let ans = parseInt(n/10)    \n",
    "    let digit2 = ans%10\n",
    "    let ans1 = parseInt(ans/10)\n",
    "    let digit3 = ans1%10\n",
    "    let ans2 = parseInt(ans1/10)\n",
    "    console.log(digit1+\"\"+digit2+\"\"+digit3);\n",
    "}"
   ]
  },
  {
   "cell_type": "code",
   "execution_count": null,
   "metadata": {
    "dotnet_interactive": {
     "language": "javascript"
    }
   },
   "outputs": [
    {
     "data": {
      "text/plain": [
       "91.2"
      ]
     },
     "metadata": {},
     "output_type": "display_data"
    },
    {
     "data": {
      "text/plain": [
       "Grade A"
      ]
     },
     "metadata": {},
     "output_type": "display_data"
    }
   ],
   "source": [
    "let s1,s2,s3,s4,s5\n",
    "s1=98,s2=98,s3=90,s4=80,s5=90\n",
    "let avg = ((s1+s2+s3+s4+s5)*100)/500\n",
    "console.log(avg)\n",
    "if(avg>90)\n",
    "{\n",
    "    console.log('Grade A')\n",
    "}\n",
    "else if(avg>80)\n",
    "{\n",
    "    console.log('Grade B')\n",
    "}\n",
    "else if(avg>70)\n",
    "{\n",
    "    console.log('Grade B')\n",
    "}\n",
    "else\n",
    "{\n",
    "    console.log('no grade')\n",
    "}"
   ]
  },
  {
   "cell_type": "code",
   "execution_count": null,
   "metadata": {
    "dotnet_interactive": {
     "language": "javascript"
    }
   },
   "outputs": [],
   "source": [
    "let total_unit \n",
    "if(total_unit > 50)\n",
    "{\n",
    "    unit_rate = 50*1\n",
    "    let new = total_unit - 50\n",
    "    \n",
    "}"
   ]
  }
 ],
 "metadata": {
  "kernelspec": {
   "display_name": ".NET (C#)",
   "language": "C#",
   "name": ".net-csharp"
  },
  "language_info": {
   "name": "C#"
  }
 },
 "nbformat": 4,
 "nbformat_minor": 2
}
