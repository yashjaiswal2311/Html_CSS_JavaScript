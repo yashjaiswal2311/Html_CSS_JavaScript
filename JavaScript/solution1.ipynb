{
 "cells": [
  {
   "cell_type": "code",
   "execution_count": null,
   "metadata": {
    "dotnet_interactive": {
     "language": "javascript"
    }
   },
   "outputs": [],
   "source": [
    "\n",
    "// 199 => 19 => 10  => 1\n",
    "\n",
    "// 149 =>14 => 5 \n",
    "\n",
    "// 146 => 11 => 2\n",
    "\n",
    "\n",
    "n =199 \n",
    "\n",
    "while(n > 9)\n",
    "{\n",
    "  sum = 0\n",
    "  while( n > 0){\n",
    "    a = n%10 \n",
    "    sum = sum + a \n",
    "    n = parseInt(n/10)\n",
    "  }\n",
    "  // console.log(sum)\n",
    "  n = sum \n",
    "  \n",
    "  // console.log(sum,n)\n",
    "}\n",
    "console.log(n)\n"
   ]
  },
  {
   "cell_type": "code",
   "execution_count": null,
   "metadata": {
    "dotnet_interactive": {
     "language": "javascript"
    }
   },
   "outputs": [],
   "source": [
    "// 16 => 11+5\n",
    "let n = 16\n",
    "for(i = 1; i<=n; i++){\n",
    "  \n",
    "   for(j = i+1; j<=n; j++){\n",
    "     \n",
    "     if(i+j == n){\n",
    "        cp=0\n",
    "        for( p = 1; p<=i; p++){\n",
    "          if(i%p==0){\n",
    "            cp++\n",
    "          }\n",
    "        }\n",
    "        cq=0\n",
    "        for( q = 1; q<=j; q++){\n",
    "          if(j%q==0){\n",
    "            cq++\n",
    "          }\n",
    "        }\n",
    "        \n",
    "        if(cp==2 && cq == 2){\n",
    "          console.log(i,j)\n",
    "        }\n",
    "      \n",
    "       \n",
    "     }\n",
    "   }\n",
    "  \n",
    "  \n",
    "  \n",
    "}"
   ]
  },
  {
   "cell_type": "code",
   "execution_count": null,
   "metadata": {
    "dotnet_interactive": {
     "language": "javascript"
    }
   },
   "outputs": [],
   "source": [
    "// 1\n",
    "// 2 3\n",
    "// 4 5 6\n",
    "// 7 8 9 10\n",
    "// 11 12 13 14 15\n",
    "\n",
    "\n",
    "t = 1\n",
    "for( r = 1; r<=5; r++){\n",
    "  \n",
    "  s = \"\"\n",
    "  for(c = 1; c<=r; c++){\n",
    "    s = s + t  + \" \"\n",
    "    // if(t == 1){\n",
    "    //   t = 0\n",
    "    // }\n",
    "    // else{\n",
    "    //   t = 1\n",
    "    // }\n",
    "    \n",
    "    t = t==1 ? 0 : 1\n",
    "  }\n",
    "  console.log(s)\n",
    "  \n",
    "  \n",
    "}"
   ]
  },
  {
   "cell_type": "code",
   "execution_count": null,
   "metadata": {
    "dotnet_interactive": {
     "language": "javascript"
    }
   },
   "outputs": [
    {
     "data": {
      "text/plain": [
       "1 "
      ]
     },
     "metadata": {},
     "output_type": "display_data"
    },
    {
     "data": {
      "text/plain": [
       "0 1 "
      ]
     },
     "metadata": {},
     "output_type": "display_data"
    },
    {
     "data": {
      "text/plain": [
       "0 1 0 "
      ]
     },
     "metadata": {},
     "output_type": "display_data"
    },
    {
     "data": {
      "text/plain": [
       "1 0 1 0 "
      ]
     },
     "metadata": {},
     "output_type": "display_data"
    },
    {
     "data": {
      "text/plain": [
       "1 0 1 0 1 "
      ]
     },
     "metadata": {},
     "output_type": "display_data"
    }
   ],
   "source": [
    "/*1\n",
    "  0 1\n",
    "  0 1 0\n",
    "  1 0 1 0\n",
    "  1 0 1 0 1*/\n",
    "\n",
    "\n",
    "t = 1\n",
    "for( r = 1; r<=5; r++){\n",
    "  \n",
    "  s = \"\"\n",
    "  for(c = 1; c<=r; c++){\n",
    "    s = s + t  + \" \"\n",
    "    // if(t == 1){\n",
    "    //   t = 0\n",
    "    // }\n",
    "    // else{\n",
    "    //   t = 1\n",
    "    // }\n",
    "    \n",
    "    t = t==1 ? 0 : 1\n",
    "  }\n",
    "  console.log(s)\n",
    "  \n",
    "  \n",
    "}"
   ]
  },
  {
   "cell_type": "code",
   "execution_count": null,
   "metadata": {
    "dotnet_interactive": {
     "language": "javascript"
    }
   },
   "outputs": [],
   "source": [
    "s = \"hello I am studying\"\n",
    "l = s.length\n",
    "\n",
    "r  = parseInt(Math.random()*l)\n",
    "\n",
    "console.log(s[r])"
   ]
  },
  {
   "cell_type": "code",
   "execution_count": null,
   "metadata": {
    "dotnet_interactive": {
     "language": "javascript"
    }
   },
   "outputs": [],
   "source": [
    "//color combination\n",
    "\n",
    "let r,g,b\n",
    "\n",
    "console.log(\"Hello, World!\");"
   ]
  },
  {
   "cell_type": "code",
   "execution_count": null,
   "metadata": {
    "dotnet_interactive": {
     "language": "javascript"
    }
   },
   "outputs": [],
   "source": []
  }
 ],
 "metadata": {
  "kernelspec": {
   "display_name": ".NET (C#)",
   "language": "C#",
   "name": ".net-csharp"
  },
  "language_info": {
   "name": "C#"
  }
 },
 "nbformat": 4,
 "nbformat_minor": 2
}
