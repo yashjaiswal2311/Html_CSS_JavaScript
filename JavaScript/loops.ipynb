{
 "cells": [
  {
   "cell_type": "code",
   "execution_count": null,
   "metadata": {
    "dotnet_interactive": {
     "language": "javascript"
    }
   },
   "outputs": [],
   "source": [
    "for(i=0;i<=100;i++)\n",
    "{\n",
    "    console.log(i)\n",
    "}"
   ]
  },
  {
   "cell_type": "code",
   "execution_count": null,
   "metadata": {
    "dotnet_interactive": {
     "language": "javascript"
    }
   },
   "outputs": [],
   "source": [
    "let a = 2, b=27\n",
    "\n",
    "for(i=a;i<=b;i++)\n",
    "{\n",
    "    if(i%2==0)\n",
    "    {\n",
    "        console.log(i)\n",
    "    }\n",
    "}"
   ]
  },
  {
   "cell_type": "code",
   "execution_count": null,
   "metadata": {
    "dotnet_interactive": {
     "language": "javascript"
    }
   },
   "outputs": [],
   "source": [
    "for(i=1;i<=100;i++)\n",
    "{\n",
    "    if(i%2!=0)\n",
    "    {\n",
    "        console.log(i)\n",
    "    }\n",
    "}"
   ]
  },
  {
   "cell_type": "code",
   "execution_count": null,
   "metadata": {
    "dotnet_interactive": {
     "language": "javascript"
    }
   },
   "outputs": [],
   "source": [
    "sum=0\n",
    "for(i=1;i<=100;i++)\n",
    "{\n",
    "    sum= sum+i\n",
    "}\n",
    "console.log(sum)"
   ]
  },
  {
   "cell_type": "code",
   "execution_count": null,
   "metadata": {
    "dotnet_interactive": {
     "language": "javascript"
    }
   },
   "outputs": [],
   "source": [
    "let t = 2\n",
    "\n",
    "for(i=1;i<=10;i++)\n",
    "{\n",
    "    ans=t*i\n",
    "    console.log(t+\"x\"+i+\"=\"+ans)\n",
    "}"
   ]
  },
  {
   "cell_type": "code",
   "execution_count": null,
   "metadata": {
    "dotnet_interactive": {
     "language": "javascript"
    }
   },
   "outputs": [],
   "source": [
    "let n =6\n",
    "let fac =1\n",
    "for(i=1;i<=n;i++)\n",
    "{\n",
    "    fac = fac*i\n",
    "}\n",
    "console.log(fac)"
   ]
  },
  {
   "cell_type": "code",
   "execution_count": null,
   "metadata": {
    "dotnet_interactive": {
     "language": "javascript"
    }
   },
   "outputs": [],
   "source": [
    "//check if it's a prime number or not \n",
    "let n=10\n",
    "let count =0\n",
    "for(i=2;i<=n;i++)\n",
    "{\n",
    "if(n%i==0)\n",
    "{\n",
    "    console.log(i)\n",
    "    count++\n",
    "}\n",
    "}\n",
    "if(count==1)\n",
    "{\n",
    "    console.log(\"It's a prime number\")\n",
    "}"
   ]
  },
  {
   "cell_type": "code",
   "execution_count": null,
   "metadata": {
    "dotnet_interactive": {
     "language": "javascript"
    }
   },
   "outputs": [],
   "source": [
    "for(i=100;i>=1;i--)\n",
    "{\n",
    "    console.log(i)\n",
    "}"
   ]
  },
  {
   "cell_type": "code",
   "execution_count": null,
   "metadata": {
    "dotnet_interactive": {
     "language": "javascript"
    }
   },
   "outputs": [],
   "source": [
    "pro = 1\n",
    "for(i=1;i<=10;i++)\n",
    "{\n",
    "    pro = pro*i\n",
    "}\n",
    "console.log(pro)"
   ]
  },
  {
   "cell_type": "code",
   "execution_count": null,
   "metadata": {
    "dotnet_interactive": {
     "language": "javascript"
    }
   },
   "outputs": [],
   "source": [
    "let a=3,b=8\n",
    "pro = 1\n",
    "for(i=a;i<=b;i++)\n",
    "{\n",
    "    pro = pro*i\n",
    "    if(pro%2==0)\n",
    "    {\n",
    "        console.log(pro)\n",
    "    }\n",
    "}"
   ]
  },
  {
   "cell_type": "code",
   "execution_count": null,
   "metadata": {
    "dotnet_interactive": {
     "language": "javascript"
    }
   },
   "outputs": [],
   "source": [
    "//LCM HCF\n",
    "\n",
    "let n1=25, n2=15,lcm=0\n",
    "hcf=0,count=0\n",
    "for(i=2;i<=n1;i++)\n",
    "{\n",
    "    if(count<2)\n",
    "    {\n",
    "    lcm = n1*i\n",
    "    if(lcm%n2==0)\n",
    "    {\n",
    "        console.log(lcm);\n",
    "        count++\n",
    "    }\n",
    "    if(n1%i==0 && n2%i==0)\n",
    "    {\n",
    "        hcf=i\n",
    "        console.log(hcf)\n",
    "        count++\n",
    "    }\n",
    "    }\n",
    "    break\n",
    "}"
   ]
  },
  {
   "cell_type": "code",
   "execution_count": null,
   "metadata": {
    "dotnet_interactive": {
     "language": "javascript"
    }
   },
   "outputs": [],
   "source": [
    "let n =121,fd,sd,td,rem\n",
    "for(i=n;i<=125;i++)\n",
    "{\n",
    "    fd = i%10\n",
    "    rem = parseInt(i/10) \n",
    "    sd = rem%10\n",
    "    td = parseInt(rem/10)\n",
    "    console.log(fd+sd+td)\n",
    "}"
   ]
  },
  {
   "cell_type": "code",
   "execution_count": null,
   "metadata": {
    "dotnet_interactive": {
     "language": "javascript"
    }
   },
   "outputs": [],
   "source": [
    "let n =121,fd,sd,td,rem\n",
    "//for(i=n;i<=125;i++)\n",
    "//{\n",
    "    fd = n%10\n",
    "    rem = parseInt(n/10) \n",
    "    sd = rem%10\n",
    "    td = parseInt(rem/10)\n",
    "    if(fd%2==0)\n",
    "    {\n",
    "        console.log(fd)\n",
    "    }\n",
    "    if(sd%2==0)\n",
    "    {\n",
    "        console.log(sd)\n",
    "    }\n",
    "    if(td%2==0)\n",
    "    {\n",
    "        console.log(td)\n",
    "    }\n",
    "//}"
   ]
  },
  {
   "cell_type": "code",
   "execution_count": null,
   "metadata": {
    "dotnet_interactive": {
     "language": "javascript"
    }
   },
   "outputs": [],
   "source": [
    "let n =5698,fd,sd,td,fod,rem,rem2,rem3\n",
    "\n",
    "fd = n%10\n",
    "rem = parseInt(n/10) \n",
    "sd = rem%10\n",
    "rem2 = parseInt(rem/10)\n",
    "td = rem2%10\n",
    "rem3 = parseInt(rem2/10)\n",
    "fod = rem3%10\n",
    "console.log(fod,td,sd,fd)"
   ]
  },
  {
   "cell_type": "code",
   "execution_count": null,
   "metadata": {
    "dotnet_interactive": {
     "language": "javascript"
    }
   },
   "outputs": [],
   "source": [
    "//Design Problem\n",
    "ans = \"\"\n",
    "for(i=1;i<=5;i++)\n",
    "{\n",
    "    for(j=1;j<=i;j++)\n",
    "    {\n",
    "        ans = ans+\"*\"\n",
    "    }\n",
    "        console.log(ans)\n",
    "        ans=\"\"\n",
    "}"
   ]
  },
  {
   "cell_type": "code",
   "execution_count": null,
   "metadata": {
    "dotnet_interactive": {
     "language": "javascript"
    }
   },
   "outputs": [
    {
     "data": {
      "text/plain": [
       "     *"
      ]
     },
     "metadata": {},
     "output_type": "display_data"
    },
    {
     "data": {
      "text/plain": [
       "    **"
      ]
     },
     "metadata": {},
     "output_type": "display_data"
    },
    {
     "data": {
      "text/plain": [
       "   ***"
      ]
     },
     "metadata": {},
     "output_type": "display_data"
    },
    {
     "data": {
      "text/plain": [
       "  ****"
      ]
     },
     "metadata": {},
     "output_type": "display_data"
    },
    {
     "data": {
      "text/plain": [
       " *****"
      ]
     },
     "metadata": {},
     "output_type": "display_data"
    }
   ],
   "source": [
    "//Design Problem\n",
    "ans = \"\"\n",
    "space=\"\"\n",
    "for(i=1;i<=5;i++)\n",
    "{\n",
    "    for(k=i;k<=5;k++)\n",
    "    {\n",
    "        space=space+\" \"\n",
    "    }\n",
    "    for(j=1;j<=i;j++)\n",
    "    {\n",
    "        ans = space+ans+\"*\"\n",
    "        space=\"\"\n",
    "    }\n",
    "        console.log(ans)\n",
    "        ans=\"\"\n",
    "}"
   ]
  },
  {
   "cell_type": "code",
   "execution_count": null,
   "metadata": {
    "dotnet_interactive": {
     "language": "javascript"
    }
   },
   "outputs": [],
   "source": [
    "//Design Problem\n",
    "ans = \"\"\n",
    "space=\"\"\n",
    "for(i=1;i<=5;i++)\n",
    "{\n",
    "    for(k=i;k<=5;k++)\n",
    "        {\n",
    "            space=space+\" \"\n",
    "        }\n",
    "    for(j=1;j<=i;j++)\n",
    "    {\n",
    "        ans =space+ans+\"*\"\n",
    "        space=\"\"\n",
    "    }\n",
    "        console.log(ans)\n",
    "        ans=\"\"\n",
    "}"
   ]
  },
  {
   "cell_type": "code",
   "execution_count": null,
   "metadata": {
    "dotnet_interactive": {
     "language": "javascript"
    }
   },
   "outputs": [],
   "source": [
    "//Design Problem\n",
    "ans = \"\"\n",
    "for(i=1;i<=5;i++)\n",
    "{\n",
    "    for(j=i;j<=5;j++)\n",
    "    {\n",
    "        ans = ans+\"*\"\n",
    "    }\n",
    "        console.log(ans)\n",
    "        ans=\"\"\n",
    "}"
   ]
  },
  {
   "cell_type": "code",
   "execution_count": null,
   "metadata": {
    "dotnet_interactive": {
     "language": "javascript"
    }
   },
   "outputs": [
    {
     "data": {
      "text/plain": [
       " *****"
      ]
     },
     "metadata": {},
     "output_type": "display_data"
    },
    {
     "data": {
      "text/plain": [
       "  ****"
      ]
     },
     "metadata": {},
     "output_type": "display_data"
    },
    {
     "data": {
      "text/plain": [
       "   ***"
      ]
     },
     "metadata": {},
     "output_type": "display_data"
    },
    {
     "data": {
      "text/plain": [
       "    **"
      ]
     },
     "metadata": {},
     "output_type": "display_data"
    },
    {
     "data": {
      "text/plain": [
       "     *"
      ]
     },
     "metadata": {},
     "output_type": "display_data"
    }
   ],
   "source": [
    "//Design Problem\n",
    "ans = \"\"\n",
    "space=\"\"\n",
    "for(i=1;i<=5;i++)\n",
    "{\n",
    "    for(k=1;k<=i;k++)\n",
    "        {\n",
    "            space=space+\" \"\n",
    "        }\n",
    "    for(j=i;j<=5;j++)\n",
    "    {\n",
    "        ans =space+ans+\"*\"\n",
    "        space=\"\"\n",
    "    }\n",
    "        console.log(ans)\n",
    "        ans=\"\"\n",
    "}"
   ]
  },
  {
   "cell_type": "code",
   "execution_count": null,
   "metadata": {
    "dotnet_interactive": {
     "language": "javascript"
    }
   },
   "outputs": [],
   "source": [
    "//Design Problem\n",
    "ans = \"\"\n",
    "for(i=1;i<=5;i++)\n",
    "{\n",
    "    for(j=1;j<=5;j++)\n",
    "    {\n",
    "        ans = ans+\"*\"\n",
    "    }\n",
    "        console.log(ans)\n",
    "        ans=\"\"\n",
    "}"
   ]
  },
  {
   "cell_type": "code",
   "execution_count": null,
   "metadata": {
    "dotnet_interactive": {
     "language": "javascript"
    }
   },
   "outputs": [
    {
     "data": {
      "text/plain": [
       "1"
      ]
     },
     "metadata": {},
     "output_type": "display_data"
    },
    {
     "data": {
      "text/plain": [
       "12"
      ]
     },
     "metadata": {},
     "output_type": "display_data"
    },
    {
     "data": {
      "text/plain": [
       "123"
      ]
     },
     "metadata": {},
     "output_type": "display_data"
    },
    {
     "data": {
      "text/plain": [
       "1234"
      ]
     },
     "metadata": {},
     "output_type": "display_data"
    },
    {
     "data": {
      "text/plain": [
       "12345"
      ]
     },
     "metadata": {},
     "output_type": "display_data"
    }
   ],
   "source": [
    "//Design Proble\n",
    "ans=\"\"\n",
    "for(i=49;i<=53;i++)\n",
    "{\n",
    "    \n",
    "    for(j=49;j<=i;j++)\n",
    "    {\n",
    "        ans=ans+String.fromCharCode(j)\n",
    "    }\n",
    "        console.log(ans)\n",
    "        ans=\"\"\n",
    "}"
   ]
  },
  {
   "cell_type": "code",
   "execution_count": null,
   "metadata": {
    "dotnet_interactive": {
     "language": "javascript"
    }
   },
   "outputs": [
    {
     "data": {
      "text/plain": [
       "1"
      ]
     },
     "metadata": {},
     "output_type": "display_data"
    },
    {
     "data": {
      "text/plain": [
       "12"
      ]
     },
     "metadata": {},
     "output_type": "display_data"
    },
    {
     "data": {
      "text/plain": [
       "123"
      ]
     },
     "metadata": {},
     "output_type": "display_data"
    },
    {
     "data": {
      "text/plain": [
       "1234"
      ]
     },
     "metadata": {},
     "output_type": "display_data"
    },
    {
     "data": {
      "text/plain": [
       "12345"
      ]
     },
     "metadata": {},
     "output_type": "display_data"
    }
   ],
   "source": [
    "//Design Proble\n",
    "ans=\"\"\n",
    "for(i=1;i<=5;i++)\n",
    "{\n",
    "    \n",
    "    for(j=1;j<=i;j++)\n",
    "    {\n",
    "        ans=ans+j\n",
    "    }\n",
    "        console.log(ans)\n",
    "        ans=\"\"\n",
    "}"
   ]
  },
  {
   "cell_type": "code",
   "execution_count": null,
   "metadata": {
    "dotnet_interactive": {
     "language": "javascript"
    }
   },
   "outputs": [],
   "source": [
    "//Design Proble\n",
    "ans=\"\"\n",
    "space=\"\"\n",
    "for(i=49;i<=53;i++)\n",
    "{\n",
    "    for(k=i;k<=53;k++)\n",
    "        {\n",
    "            space=space+\" \"\n",
    "        }   \n",
    "    for(j=49;j<=i;j++)\n",
    "    {\n",
    "        ans=space+ans+String.fromCharCode(j)\n",
    "        space=\"\"\n",
    "    }\n",
    "        console.log(ans)\n",
    "        ans=\"\"\n",
    "}"
   ]
  },
  {
   "cell_type": "code",
   "execution_count": null,
   "metadata": {
    "dotnet_interactive": {
     "language": "javascript"
    }
   },
   "outputs": [
    {
     "data": {
      "text/plain": [
       "     1"
      ]
     },
     "metadata": {},
     "output_type": "display_data"
    },
    {
     "data": {
      "text/plain": [
       "    12"
      ]
     },
     "metadata": {},
     "output_type": "display_data"
    },
    {
     "data": {
      "text/plain": [
       "   123"
      ]
     },
     "metadata": {},
     "output_type": "display_data"
    },
    {
     "data": {
      "text/plain": [
       "  1234"
      ]
     },
     "metadata": {},
     "output_type": "display_data"
    },
    {
     "data": {
      "text/plain": [
       " 12345"
      ]
     },
     "metadata": {},
     "output_type": "display_data"
    }
   ],
   "source": [
    "//Design Proble\n",
    "ans=\"\"\n",
    "space=\"\"\n",
    "for(i=1;i<=5;i++)\n",
    "{\n",
    "    for(k=i;k<=5;k++)\n",
    "        {\n",
    "            space=space+\" \"\n",
    "        }   \n",
    "    for(j=1;j<=i;j++)\n",
    "    {\n",
    "        ans=space+ans+j\n",
    "        space=\"\"\n",
    "    }\n",
    "        console.log(ans)\n",
    "        ans=\"\"\n",
    "}"
   ]
  },
  {
   "cell_type": "code",
   "execution_count": null,
   "metadata": {
    "dotnet_interactive": {
     "language": "javascript"
    }
   },
   "outputs": [],
   "source": [
    "let a = 10, b= 20\n",
    "count=0\n",
    "\n",
    "for(i=10;i<=b;i++)\n",
    "{\n",
    "    if(i==0)\n",
    "    {\n",
    "        count++\n",
    "    }\n",
    "    a++\n",
    "}\n",
    "if(count<2)\n",
    "{\n",
    "    console.log(count+\"\"+\"prime numbers\")\n",
    "}\n",
    "else{\n",
    "    console.log(\"no prime numbers\")\n",
    "}"
   ]
  },
  {
   "cell_type": "code",
   "execution_count": null,
   "metadata": {
    "dotnet_interactive": {
     "language": "javascript"
    }
   },
   "outputs": [
    {
     "data": {
      "text/plain": [
       " *********"
      ]
     },
     "metadata": {},
     "output_type": "display_data"
    },
    {
     "data": {
      "text/plain": [
       "  *******"
      ]
     },
     "metadata": {},
     "output_type": "display_data"
    },
    {
     "data": {
      "text/plain": [
       "   *****"
      ]
     },
     "metadata": {},
     "output_type": "display_data"
    },
    {
     "data": {
      "text/plain": [
       "    ***"
      ]
     },
     "metadata": {},
     "output_type": "display_data"
    },
    {
     "data": {
      "text/plain": [
       "     *"
      ]
     },
     "metadata": {},
     "output_type": "display_data"
    }
   ],
   "source": [
    "//Design Problem\n",
    "ans = \"\"\n",
    "space=\"\"\n",
    "for(i=1;i<=9;i++)\n",
    "{\n",
    "    if(i%2!=0)\n",
    "    {\n",
    "      for(k=1;k<=i;k++)\n",
    "        {\n",
    "          space=space+\" \"\n",
    "          k++\n",
    "        }\n",
    "      for(j=i;j<=9;j++)\n",
    "      {\n",
    "          ans =space+ans+\"*\"\n",
    "          space=\"\"\n",
    "      }\n",
    "          console.log(ans)\n",
    "          ans=\"\"\n",
    "    }\n",
    "\n",
    "}"
   ]
  },
  {
   "cell_type": "code",
   "execution_count": null,
   "metadata": {
    "dotnet_interactive": {
     "language": "javascript"
    }
   },
   "outputs": [],
   "source": [
    "//Design Problem\n",
    "ans = \"\"\n",
    "space=\"\"\n",
    "for(i=1;i<=9;i++)\n",
    "{\n",
    "    if(i%2!=0)\n",
    "    {\n",
    "      for(k=i;k<=7;k++)\n",
    "        {\n",
    "          space=space+\" \"\n",
    "          k++\n",
    "        }\n",
    "      for(j=1;j<=i;j++)\n",
    "      {\n",
    "          ans =space+ans+\"*\"\n",
    "          space=\"\"\n",
    "      }\n",
    "          console.log(ans)\n",
    "          ans=\"\"\n",
    "    }\n",
    "\n",
    "}"
   ]
  },
  {
   "cell_type": "code",
   "execution_count": null,
   "metadata": {
    "dotnet_interactive": {
     "language": "javascript"
    }
   },
   "outputs": [],
   "source": [
    "//Design Problem\n",
    "ans = \"\"\n",
    "space=\"\"\n",
    "for(i=1;i<=9;i++)\n",
    "{\n",
    "    if(i%2!=0)\n",
    "    {\n",
    "      for(k=i;k<=7;k++)\n",
    "        {\n",
    "          space=space+\" \"\n",
    "          k++\n",
    "        }\n",
    "      for(j=1;j<=i;j++)\n",
    "      {\n",
    "          ans =space+ans+\"*\"\n",
    "          space=\"\"\n",
    "      }\n",
    "          console.log(ans)\n",
    "          ans=\"\"\n",
    "    }\n",
    "\n",
    "}\n",
    "for(i=1;i<=9;i++)\n",
    "{\n",
    "    if(i%2!=0)\n",
    "    {\n",
    "      for(k=2;k<=i;k++)\n",
    "        {\n",
    "          space=space+\" \"\n",
    "          k++\n",
    "        }\n",
    "      for(j=i;j<=9;j++)\n",
    "      {\n",
    "          ans =space+ans+\"*\"\n",
    "          space=\"\"\n",
    "      }\n",
    "          console.log(ans)\n",
    "          ans=\"\"\n",
    "    }\n",
    "\n",
    "}"
   ]
  },
  {
   "cell_type": "code",
   "execution_count": null,
   "metadata": {
    "dotnet_interactive": {
     "language": "javascript"
    }
   },
   "outputs": [],
   "source": [
    "//HCF & LCM\n",
    "let a = 12\n",
    "let b = 18\n",
    "lcm =0, hcf=0\n",
    "mul = a*b\n",
    "for (i =b; i<=mul; i++){\n",
    "  \n",
    "if( i%a == 0 && i%b == 0 )\n",
    " {\n",
    "    lcm = i\n",
    "    break\n",
    " } \n",
    "}\n",
    "   console.log(\"LCM of: \"+a+\" & \"+b+\" is \"+lcm) \n",
    "for(i=1;i<=a;i++)\n",
    "{\n",
    "    if(a%i==0 && b%i==0)\n",
    "    {\n",
    "        hcf=i\n",
    "    }\n",
    "}\n",
    "console.log(\"HCF of: \"+a+\" & \"+b+\" is \"+hcf) \n"
   ]
  },
  {
   "cell_type": "code",
   "execution_count": null,
   "metadata": {
    "dotnet_interactive": {
     "language": "javascript"
    }
   },
   "outputs": [],
   "source": [
    "//Design Problem\n",
    "ans = \"\"\n",
    "for(i=1;i<=4;i++)\n",
    "{\n",
    "    for(j=1;j<=4;j++)\n",
    "    {\n",
    "        if(j==2 && i==2 || j==3 && i==2 || j==2 && i==3 || j==3 && i==3)\n",
    "        {\n",
    "            ans= ans+\" \"\n",
    "        }\n",
    "        else\n",
    "        {\n",
    "            ans = ans+\"*\"\n",
    "        }\n",
    "    }\n",
    "        console.log(ans)\n",
    "        ans=\"\"\n",
    "}"
   ]
  },
  {
   "cell_type": "code",
   "execution_count": null,
   "metadata": {
    "dotnet_interactive": {
     "language": "javascript"
    }
   },
   "outputs": [
    {
     "data": {
      "text/plain": [
       "5"
      ]
     },
     "metadata": {},
     "output_type": "display_data"
    },
    {
     "data": {
      "text/plain": [
       "45"
      ]
     },
     "metadata": {},
     "output_type": "display_data"
    },
    {
     "data": {
      "text/plain": [
       "345"
      ]
     },
     "metadata": {},
     "output_type": "display_data"
    },
    {
     "data": {
      "text/plain": [
       "2345"
      ]
     },
     "metadata": {},
     "output_type": "display_data"
    },
    {
     "data": {
      "text/plain": [
       "12345"
      ]
     },
     "metadata": {},
     "output_type": "display_data"
    }
   ],
   "source": [
    "//Design Proble\n",
    "ans=\"\"\n",
    "for(i=5;i>=1;i--)\n",
    "{\n",
    "    for(j=i;j<=5;j++)\n",
    "    {\n",
    "        ans=ans+j\n",
    "    }\n",
    "        console.log(ans)\n",
    "        ans=\"\"\n",
    "}"
   ]
  },
  {
   "cell_type": "code",
   "execution_count": null,
   "metadata": {
    "dotnet_interactive": {
     "language": "javascript"
    }
   },
   "outputs": [
    {
     "data": {
      "text/plain": [
       "1 "
      ]
     },
     "metadata": {},
     "output_type": "display_data"
    },
    {
     "data": {
      "text/plain": [
       "2 3 "
      ]
     },
     "metadata": {},
     "output_type": "display_data"
    },
    {
     "data": {
      "text/plain": [
       "4 5 6 "
      ]
     },
     "metadata": {},
     "output_type": "display_data"
    },
    {
     "data": {
      "text/plain": [
       "7 8 9 10 "
      ]
     },
     "metadata": {},
     "output_type": "display_data"
    },
    {
     "data": {
      "text/plain": [
       "11 12 13 14 15 "
      ]
     },
     "metadata": {},
     "output_type": "display_data"
    }
   ],
   "source": [
    "n=0\n",
    "ans=\"\"\n",
    "for(i=1;i<=5;i++)\n",
    "{\n",
    "    for(j=1;j<=i;j++)\n",
    "    {\n",
    "        n++\n",
    "        ans=ans+n+\" \"\n",
    "    }\n",
    "    console.log(ans)\n",
    "    ans=\"\"\n",
    "}"
   ]
  },
  {
   "cell_type": "code",
   "execution_count": null,
   "metadata": {
    "dotnet_interactive": {
     "language": "javascript"
    }
   },
   "outputs": [
    {
     "data": {
      "text/plain": [
       "1 "
      ]
     },
     "metadata": {},
     "output_type": "display_data"
    },
    {
     "data": {
      "text/plain": [
       "0 1 "
      ]
     },
     "metadata": {},
     "output_type": "display_data"
    },
    {
     "data": {
      "text/plain": [
       "0 1 0 "
      ]
     },
     "metadata": {},
     "output_type": "display_data"
    },
    {
     "data": {
      "text/plain": [
       "1 0 1 0 "
      ]
     },
     "metadata": {},
     "output_type": "display_data"
    },
    {
     "data": {
      "text/plain": [
       "1 0 1 0 1 "
      ]
     },
     "metadata": {},
     "output_type": "display_data"
    }
   ],
   "source": [
    "n=1\n",
    "ans=\"\"\n",
    "for(i=1;i<=5;i++)\n",
    "{\n",
    "    for(j=1;j<=i;j++)\n",
    "    {\n",
    "        ans=ans+n+\" \"\n",
    "        if(n==1)\n",
    "        {\n",
    "            n=0\n",
    "        }\n",
    "        else\n",
    "        {\n",
    "            n=1\n",
    "        }\n",
    "    }\n",
    "    console.log(ans)\n",
    "    ans=\"\"\n",
    "}"
   ]
  }
 ],
 "metadata": {
  "kernelspec": {
   "display_name": ".NET (C#)",
   "language": "C#",
   "name": ".net-csharp"
  },
  "language_info": {
   "name": "C#"
  }
 },
 "nbformat": 4,
 "nbformat_minor": 2
}
