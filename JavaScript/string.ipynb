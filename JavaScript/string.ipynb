{
 "cells": [
  {
   "cell_type": "code",
   "execution_count": null,
   "metadata": {
    "dotnet_interactive": {
     "language": "javascript"
    }
   },
   "outputs": [
    {
     "data": {
      "text/plain": [
       "less than 10 character"
      ]
     },
     "metadata": {},
     "output_type": "display_data"
    }
   ],
   "source": [
    "let str = \"Helloworld\"\n",
    "count=0\n",
    "\n",
    "for(i=0;i<str.length;i++)\n",
    "{\n",
    "    count++\n",
    "}\n",
    "if(count>10)\n",
    "{\n",
    "    console.log(\"Greater than 10 character\")\n",
    "}\n",
    "else\n",
    "{\n",
    "    console.log(\"less than 10 character\")\n",
    "}"
   ]
  },
  {
   "cell_type": "code",
   "execution_count": null,
   "metadata": {
    "dotnet_interactive": {
     "language": "javascript"
    }
   },
   "outputs": [
    {
     "data": {
      "text/plain": [
       "H"
      ]
     },
     "metadata": {},
     "output_type": "display_data"
    },
    {
     "data": {
      "text/plain": [
       "e"
      ]
     },
     "metadata": {},
     "output_type": "display_data"
    },
    {
     "data": {
      "text/plain": [
       "l"
      ]
     },
     "metadata": {},
     "output_type": "display_data"
    },
    {
     "data": {
      "text/plain": [
       "l"
      ]
     },
     "metadata": {},
     "output_type": "display_data"
    },
    {
     "data": {
      "text/plain": [
       "o"
      ]
     },
     "metadata": {},
     "output_type": "display_data"
    },
    {
     "data": {
      "text/plain": [
       " "
      ]
     },
     "metadata": {},
     "output_type": "display_data"
    },
    {
     "data": {
      "text/plain": [
       "W"
      ]
     },
     "metadata": {},
     "output_type": "display_data"
    },
    {
     "data": {
      "text/plain": [
       "o"
      ]
     },
     "metadata": {},
     "output_type": "display_data"
    },
    {
     "data": {
      "text/plain": [
       "r"
      ]
     },
     "metadata": {},
     "output_type": "display_data"
    },
    {
     "data": {
      "text/plain": [
       "l"
      ]
     },
     "metadata": {},
     "output_type": "display_data"
    },
    {
     "data": {
      "text/plain": [
       "d"
      ]
     },
     "metadata": {},
     "output_type": "display_data"
    }
   ],
   "source": [
    "let s=\"Hello World\"\n",
    "for(t of s)\n",
    "{\n",
    "    console.log(t)\n",
    "}"
   ]
  },
  {
   "cell_type": "code",
   "execution_count": null,
   "metadata": {
    "dotnet_interactive": {
     "language": "javascript"
    }
   },
   "outputs": [
    {
     "data": {
      "text/plain": [
       "e"
      ]
     },
     "metadata": {},
     "output_type": "display_data"
    },
    {
     "data": {
      "text/plain": [
       "o"
      ]
     },
     "metadata": {},
     "output_type": "display_data"
    },
    {
     "data": {
      "text/plain": [
       "o"
      ]
     },
     "metadata": {},
     "output_type": "display_data"
    }
   ],
   "source": [
    "let str =\"Hello World\"\n",
    "for(t of str)\n",
    "{\n",
    "    if(t==\"a\"||t==\"A\"||t==\"e\"||t==\"E\"||t==\"i\"||t==\"I\"||t==\"o\"||t==\"O\"||t==\"u\"||t==\"U\")\n",
    "    {\n",
    "        console.log(t)\n",
    "    }\n",
    "}"
   ]
  },
  {
   "cell_type": "code",
   "execution_count": null,
   "metadata": {
    "dotnet_interactive": {
     "language": "javascript"
    }
   },
   "outputs": [
    {
     "data": {
      "text/plain": [
       "3"
      ]
     },
     "metadata": {},
     "output_type": "display_data"
    }
   ],
   "source": [
    "\n",
    "let str =\"Hello World\"\n",
    "count = 0\n",
    "for(t of str)\n",
    "{\n",
    "    if(t==\"a\"||t==\"A\"||t==\"e\"||t==\"E\"||t==\"i\"||t==\"I\"||t==\"o\"||t==\"O\"||t==\"u\"||t==\"U\")\n",
    "    {\n",
    "        count++\n",
    "    }\n",
    "}\n",
    "console.log(count)"
   ]
  },
  {
   "cell_type": "code",
   "execution_count": null,
   "metadata": {
    "dotnet_interactive": {
     "language": "javascript"
    }
   },
   "outputs": [
    {
     "data": {
      "text/plain": [
       "HELLO WORLD"
      ]
     },
     "metadata": {},
     "output_type": "display_data"
    }
   ],
   "source": [
    "\n",
    "let str =\"Hello World\"\n",
    "s=\"\"\n",
    "for(t of str)\n",
    "{\n",
    "    s=str.toUpperCase()\n",
    "}\n",
    "console.log(s)"
   ]
  },
  {
   "cell_type": "code",
   "execution_count": null,
   "metadata": {
    "dotnet_interactive": {
     "language": "javascript"
    }
   },
   "outputs": [
    {
     "data": {
      "text/plain": [
       "1"
      ]
     },
     "metadata": {},
     "output_type": "display_data"
    }
   ],
   "source": [
    "\n",
    "let str =\"Hello World\"\n",
    "count = 0\n",
    "for(t of str)\n",
    "{\n",
    "    if(t==\"e\"||t==\"E\")\n",
    "    {\n",
    "        count++\n",
    "    }\n",
    "}\n",
    "console.log(count)"
   ]
  },
  {
   "cell_type": "code",
   "execution_count": null,
   "metadata": {
    "dotnet_interactive": {
     "language": "javascript"
    }
   },
   "outputs": [
    {
     "data": {
      "text/plain": [
       "Ram"
      ]
     },
     "metadata": {},
     "output_type": "display_data"
    }
   ],
   "source": [
    "\n",
    "let str =\"Hello World my name is Ram\"\n",
    "start=0\n",
    "end=3\n",
    "s=\"\"\n",
    "\n",
    "for(i=0;i<str.length;i++)\n",
    "{\n",
    "    s=str.substring(start,end)\n",
    "    s1=s.toLowerCase()\n",
    "    if(s1==\"ram\")\n",
    "    {\n",
    "        console.log(s)\n",
    "    }\n",
    "    start++\n",
    "    end++\n",
    "}\n"
   ]
  },
  {
   "cell_type": "code",
   "execution_count": null,
   "metadata": {
    "dotnet_interactive": {
     "language": "javascript"
    }
   },
   "outputs": [
    {
     "data": {
      "text/plain": [
       "orld"
      ]
     },
     "metadata": {},
     "output_type": "display_data"
    }
   ],
   "source": [
    "let s=\"Hello World\"\n",
    "\n",
    "console.log(s.substr(-4,s.length))"
   ]
  },
  {
   "cell_type": "code",
   "execution_count": null,
   "metadata": {
    "dotnet_interactive": {
     "language": "javascript"
    }
   },
   "outputs": [
    {
     "data": {
      "text/plain": [
       "e"
      ]
     },
     "metadata": {},
     "output_type": "display_data"
    },
    {
     "data": {
      "text/plain": [
       "o"
      ]
     },
     "metadata": {},
     "output_type": "display_data"
    },
    {
     "data": {
      "text/plain": [
       "o"
      ]
     },
     "metadata": {},
     "output_type": "display_data"
    },
    {
     "data": {
      "text/plain": [
       "r"
      ]
     },
     "metadata": {},
     "output_type": "display_data"
    }
   ],
   "source": [
    "let s=\"Hello World\"\n",
    "let s1=\"New York\"\n",
    "\n",
    "for(t of s)\n",
    "{\n",
    "    for(t1 of s1)\n",
    "    {\n",
    "        if(t==t1 && t!=\" \")\n",
    "        {\n",
    "            console.log(t1)\n",
    "        }\n",
    "    }\n",
    "}"
   ]
  },
  {
   "cell_type": "code",
   "execution_count": null,
   "metadata": {
    "dotnet_interactive": {
     "language": "javascript"
    }
   },
   "outputs": [
    {
     "data": {
      "text/plain": [
       "dlroW olleH"
      ]
     },
     "metadata": {},
     "output_type": "display_data"
    }
   ],
   "source": [
    "let s=\"Hello World\"\n",
    "str=\"\"\n",
    "for(t of s)\n",
    "{\n",
    "    str=t+str\n",
    "}\n",
    "console.log(str)"
   ]
  },
  {
   "cell_type": "code",
   "execution_count": null,
   "metadata": {
    "dotnet_interactive": {
     "language": "javascript"
    }
   },
   "outputs": [
    {
     "data": {
      "text/plain": [
       "Hello"
      ]
     },
     "metadata": {},
     "output_type": "display_data"
    },
    {
     "data": {
      "text/plain": [
       "World"
      ]
     },
     "metadata": {},
     "output_type": "display_data"
    },
    {
     "data": {
      "text/plain": [
       "We"
      ]
     },
     "metadata": {},
     "output_type": "display_data"
    },
    {
     "data": {
      "text/plain": [
       "are"
      ]
     },
     "metadata": {},
     "output_type": "display_data"
    },
    {
     "data": {
      "text/plain": [
       "here"
      ]
     },
     "metadata": {},
     "output_type": "display_data"
    },
    {
     "data": {
      "text/plain": [
       "to"
      ]
     },
     "metadata": {},
     "output_type": "display_data"
    },
    {
     "data": {
      "text/plain": [
       "say"
      ]
     },
     "metadata": {},
     "output_type": "display_data"
    },
    {
     "data": {
      "text/plain": [
       "Hi"
      ]
     },
     "metadata": {},
     "output_type": "display_data"
    }
   ],
   "source": [
    "let s=\"Hello World We are here to say Hi \"\n",
    "str=\"\"\n",
    "for(t of s)\n",
    "{\n",
    "    if(t!=\" \")\n",
    "    {\n",
    "        str=str+t\n",
    "    }\n",
    "    else\n",
    "    {\n",
    "        console.log(str)\n",
    "        str=\"\"\n",
    "    }\n",
    "}"
   ]
  },
  {
   "cell_type": "code",
   "execution_count": null,
   "metadata": {
    "dotnet_interactive": {
     "language": "javascript"
    }
   },
   "outputs": [
    {
     "data": {
      "text/plain": [
       "olleH dlroW eW era ereh ot yas "
      ]
     },
     "metadata": {},
     "output_type": "display_data"
    }
   ],
   "source": [
    "let s=\"Hello World We are here to say Hi\"\n",
    "str=\"\"\n",
    "str1=\"\"\n",
    "for(t of s)\n",
    "{\n",
    "    if(t!=\" \")\n",
    "    {\n",
    "        str=t+str\n",
    "    }\n",
    "    else\n",
    "    {\n",
    "        str1=str1+str+\" \"\n",
    "        str=\"\"\n",
    "    }\n",
    "}\n",
    "console.log(str1)"
   ]
  },
  {
   "cell_type": "code",
   "execution_count": null,
   "metadata": {
    "dotnet_interactive": {
     "language": "javascript"
    }
   },
   "outputs": [
    {
     "data": {
      "text/plain": [
       "madam"
      ]
     },
     "metadata": {},
     "output_type": "display_data"
    },
    {
     "data": {
      "text/plain": [
       "its a palindrome"
      ]
     },
     "metadata": {},
     "output_type": "display_data"
    }
   ],
   "source": [
    "let s=\"MadAm\"\n",
    "str=\"\"\n",
    "for(t of s)\n",
    "{\n",
    "    str=t+str\n",
    "}\n",
    "str=str.toLowerCase()\n",
    "s=s.toLowerCase()\n",
    "console.log(str)\n",
    "if(s==str)\n",
    "{\n",
    "    console.log(\"its a palindrome\")\n",
    "}\n",
    "else\n",
    "{\n",
    "    console.log(\"Not a palindrome\")\n",
    "}"
   ]
  },
  {
   "cell_type": "code",
   "execution_count": null,
   "metadata": {
    "dotnet_interactive": {
     "language": "javascript"
    }
   },
   "outputs": [
    {
     "data": {
      "text/plain": [
       "helQing Qoors"
      ]
     },
     "metadata": {},
     "output_type": "display_data"
    }
   ],
   "source": [
    "let s=\"helping poors\"\n",
    "str=\"\"\n",
    "for(t of s)\n",
    "{\n",
    "    if(t==\"p\")\n",
    "    {\n",
    "        str=str+\"Q\"\n",
    "    }\n",
    "    else\n",
    "    {\n",
    "        str=str+t\n",
    "    }\n",
    "}\n",
    "console.log(str)"
   ]
  },
  {
   "cell_type": "code",
   "execution_count": null,
   "metadata": {
    "dotnet_interactive": {
     "language": "javascript"
    }
   },
   "outputs": [
    {
     "data": {
      "text/plain": [
       "*"
      ]
     },
     "metadata": {},
     "output_type": "display_data"
    },
    {
     "data": {
      "text/plain": [
       "**"
      ]
     },
     "metadata": {},
     "output_type": "display_data"
    },
    {
     "data": {
      "text/plain": [
       "***"
      ]
     },
     "metadata": {},
     "output_type": "display_data"
    },
    {
     "data": {
      "text/plain": [
       "****"
      ]
     },
     "metadata": {},
     "output_type": "display_data"
    },
    {
     "data": {
      "text/plain": [
       "*****"
      ]
     },
     "metadata": {},
     "output_type": "display_data"
    }
   ],
   "source": [
    "s=\"\"\n",
    "for(i=1;i<=5;i++)\n",
    "{\n",
    "    for(j=1;j<=i;j++)\n",
    "    {\n",
    "        s=s+\"*\"\n",
    "    }\n",
    "    console.log(s)\n",
    "    s=\"\"\n",
    "}"
   ]
  },
  {
   "cell_type": "code",
   "execution_count": null,
   "metadata": {
    "dotnet_interactive": {
     "language": "javascript"
    }
   },
   "outputs": [],
   "source": []
  }
 ],
 "metadata": {
  "kernelspec": {
   "display_name": ".NET (C#)",
   "language": "C#",
   "name": ".net-csharp"
  },
  "language_info": {
   "name": "C#"
  }
 },
 "nbformat": 4,
 "nbformat_minor": 2
}
